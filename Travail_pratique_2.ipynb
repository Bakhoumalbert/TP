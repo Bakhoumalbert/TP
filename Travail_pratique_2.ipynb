{
 "cells": [
  {
   "cell_type": "code",
   "execution_count": 1,
   "id": "6d27e0ce",
   "metadata": {},
   "outputs": [],
   "source": [
    "import numpy as np\n",
    "import pandas as pd\n",
    "from pandas import Series"
   ]
  },
  {
   "cell_type": "markdown",
   "id": "46dd8379",
   "metadata": {},
   "source": [
    "# Exercice1"
   ]
  },
  {
   "cell_type": "markdown",
   "id": "21625180",
   "metadata": {},
   "source": [
    "1) creation du DataFrame"
   ]
  },
  {
   "cell_type": "code",
   "execution_count": 2,
   "id": "ee5df0e8",
   "metadata": {},
   "outputs": [
    {
     "data": {
      "text/html": [
       "<div>\n",
       "<style scoped>\n",
       "    .dataframe tbody tr th:only-of-type {\n",
       "        vertical-align: middle;\n",
       "    }\n",
       "\n",
       "    .dataframe tbody tr th {\n",
       "        vertical-align: top;\n",
       "    }\n",
       "\n",
       "    .dataframe thead th {\n",
       "        text-align: right;\n",
       "    }\n",
       "</style>\n",
       "<table border=\"1\" class=\"dataframe\">\n",
       "  <thead>\n",
       "    <tr style=\"text-align: right;\">\n",
       "      <th></th>\n",
       "      <th>Noms</th>\n",
       "      <th>Age</th>\n",
       "      <th>Poids</th>\n",
       "      <th>Taille</th>\n",
       "      <th>Genre</th>\n",
       "    </tr>\n",
       "  </thead>\n",
       "  <tbody>\n",
       "    <tr>\n",
       "      <th>0</th>\n",
       "      <td>Doudou</td>\n",
       "      <td>10</td>\n",
       "      <td>75</td>\n",
       "      <td>4.5</td>\n",
       "      <td>M</td>\n",
       "    </tr>\n",
       "    <tr>\n",
       "      <th>1</th>\n",
       "      <td>Amy</td>\n",
       "      <td>15</td>\n",
       "      <td>123</td>\n",
       "      <td>5.0</td>\n",
       "      <td>F</td>\n",
       "    </tr>\n",
       "    <tr>\n",
       "      <th>2</th>\n",
       "      <td>Moussa</td>\n",
       "      <td>20</td>\n",
       "      <td>239</td>\n",
       "      <td>6.1</td>\n",
       "      <td>M</td>\n",
       "    </tr>\n",
       "  </tbody>\n",
       "</table>\n",
       "</div>"
      ],
      "text/plain": [
       "     Noms  Age  Poids  Taille Genre\n",
       "0  Doudou   10     75     4.5     M\n",
       "1     Amy   15    123     5.0     F\n",
       "2  Moussa   20    239     6.1     M"
      ]
     },
     "execution_count": 2,
     "metadata": {},
     "output_type": "execute_result"
    }
   ],
   "source": [
    "nom=[\"Doudou\",\"Amy\",\"Moussa\"]\n",
    "age=[10,15,20]\n",
    "poids=[75,123,239]\n",
    "taille=[4.5,5,6.1]\n",
    "genre=[\"M\",\"F\",\"M\"]\n",
    "info={\"Noms\":nom,\"Age\":age,\"Poids\":poids,\"Taille\":taille,\"Genre\":genre}\n",
    "df1=pd.DataFrame(info) # Création du DataFrame\n",
    "df1"
   ]
  },
  {
   "cell_type": "code",
   "execution_count": 3,
   "id": "78d54b84",
   "metadata": {},
   "outputs": [
    {
     "data": {
      "text/html": [
       "<div>\n",
       "<style scoped>\n",
       "    .dataframe tbody tr th:only-of-type {\n",
       "        vertical-align: middle;\n",
       "    }\n",
       "\n",
       "    .dataframe tbody tr th {\n",
       "        vertical-align: top;\n",
       "    }\n",
       "\n",
       "    .dataframe thead th {\n",
       "        text-align: right;\n",
       "    }\n",
       "</style>\n",
       "<table border=\"1\" class=\"dataframe\">\n",
       "  <thead>\n",
       "    <tr style=\"text-align: right;\">\n",
       "      <th></th>\n",
       "      <th>vaches</th>\n",
       "      <th>chevres</th>\n",
       "    </tr>\n",
       "  </thead>\n",
       "  <tbody>\n",
       "    <tr>\n",
       "      <th>an 1</th>\n",
       "      <td>12</td>\n",
       "      <td>20</td>\n",
       "    </tr>\n",
       "    <tr>\n",
       "      <th>an 2</th>\n",
       "      <td>22</td>\n",
       "      <td>19</td>\n",
       "    </tr>\n",
       "  </tbody>\n",
       "</table>\n",
       "</div>"
      ],
      "text/plain": [
       "      vaches  chevres\n",
       "an 1      12       20\n",
       "an 2      22       19"
      ]
     },
     "execution_count": 3,
     "metadata": {},
     "output_type": "execute_result"
    }
   ],
   "source": [
    "donnee=np.array([[12,20],[22,19]])\n",
    "df2=pd.DataFrame(donnee, index=[\"an 1\",\"an 2\"], columns=[\"vaches\",\"chevres\"]) # Création du DataFrame\n",
    "df2"
   ]
  },
  {
   "cell_type": "markdown",
   "id": "7203af57",
   "metadata": {},
   "source": [
    "3) Enregistrement du DataFrame sous le nom de vache_chevre.csv"
   ]
  },
  {
   "cell_type": "code",
   "execution_count": 4,
   "id": "8f6fa08f",
   "metadata": {},
   "outputs": [],
   "source": [
    "df2.to_csv(\"vache_chevre.csv\")"
   ]
  },
  {
   "cell_type": "markdown",
   "id": "f4837119",
   "metadata": {},
   "source": [
    "4) Transformation du fichier vache_chevre.csv en DataFrame"
   ]
  },
  {
   "cell_type": "code",
   "execution_count": 5,
   "id": "fcf0d680",
   "metadata": {},
   "outputs": [
    {
     "data": {
      "text/html": [
       "<div>\n",
       "<style scoped>\n",
       "    .dataframe tbody tr th:only-of-type {\n",
       "        vertical-align: middle;\n",
       "    }\n",
       "\n",
       "    .dataframe tbody tr th {\n",
       "        vertical-align: top;\n",
       "    }\n",
       "\n",
       "    .dataframe thead th {\n",
       "        text-align: right;\n",
       "    }\n",
       "</style>\n",
       "<table border=\"1\" class=\"dataframe\">\n",
       "  <thead>\n",
       "    <tr style=\"text-align: right;\">\n",
       "      <th></th>\n",
       "      <th>vaches</th>\n",
       "      <th>chevres</th>\n",
       "    </tr>\n",
       "  </thead>\n",
       "  <tbody>\n",
       "    <tr>\n",
       "      <th>an 1</th>\n",
       "      <td>12</td>\n",
       "      <td>20</td>\n",
       "    </tr>\n",
       "    <tr>\n",
       "      <th>an 2</th>\n",
       "      <td>22</td>\n",
       "      <td>19</td>\n",
       "    </tr>\n",
       "  </tbody>\n",
       "</table>\n",
       "</div>"
      ],
      "text/plain": [
       "      vaches  chevres\n",
       "an 1      12       20\n",
       "an 2      22       19"
      ]
     },
     "execution_count": 5,
     "metadata": {},
     "output_type": "execute_result"
    }
   ],
   "source": [
    "import pandas as pd\n",
    "animaux=pd.read_csv(\"vache_chevre.csv\",index_col=0)\n",
    "animaux"
   ]
  },
  {
   "cell_type": "markdown",
   "id": "6219c97a",
   "metadata": {},
   "source": [
    "# Exercice 2"
   ]
  },
  {
   "cell_type": "markdown",
   "id": "369fe78c",
   "metadata": {},
   "source": [
    "\n",
    "1) Importation du fichier boissons_evaluees.csv"
   ]
  },
  {
   "cell_type": "code",
   "execution_count": 6,
   "id": "8951cbf7",
   "metadata": {
    "scrolled": false
   },
   "outputs": [
    {
     "data": {
      "text/html": [
       "<div>\n",
       "<style scoped>\n",
       "    .dataframe tbody tr th:only-of-type {\n",
       "        vertical-align: middle;\n",
       "    }\n",
       "\n",
       "    .dataframe tbody tr th {\n",
       "        vertical-align: top;\n",
       "    }\n",
       "\n",
       "    .dataframe thead th {\n",
       "        text-align: right;\n",
       "    }\n",
       "</style>\n",
       "<table border=\"1\" class=\"dataframe\">\n",
       "  <thead>\n",
       "    <tr style=\"text-align: right;\">\n",
       "      <th></th>\n",
       "      <th>country</th>\n",
       "      <th>description</th>\n",
       "      <th>designation</th>\n",
       "      <th>points</th>\n",
       "      <th>price</th>\n",
       "      <th>province</th>\n",
       "      <th>region_1</th>\n",
       "      <th>region_2</th>\n",
       "      <th>taster_name</th>\n",
       "      <th>taster_twitter_handle</th>\n",
       "      <th>title</th>\n",
       "      <th>variety</th>\n",
       "      <th>winery</th>\n",
       "    </tr>\n",
       "  </thead>\n",
       "  <tbody>\n",
       "    <tr>\n",
       "      <th>0</th>\n",
       "      <td>Italy</td>\n",
       "      <td>Aromas include tropical fruit, broom, brimston...</td>\n",
       "      <td>Vulkà Bianco</td>\n",
       "      <td>87</td>\n",
       "      <td>NaN</td>\n",
       "      <td>Sicily &amp; Sardinia</td>\n",
       "      <td>Etna</td>\n",
       "      <td>NaN</td>\n",
       "      <td>Kerin O’Keefe</td>\n",
       "      <td>@kerinokeefe</td>\n",
       "      <td>Nicosia 2013 Vulkà Bianco  (Etna)</td>\n",
       "      <td>White Blend</td>\n",
       "      <td>Nicosia</td>\n",
       "    </tr>\n",
       "    <tr>\n",
       "      <th>1</th>\n",
       "      <td>Portugal</td>\n",
       "      <td>This is ripe and fruity, a wine that is smooth...</td>\n",
       "      <td>Avidagos</td>\n",
       "      <td>87</td>\n",
       "      <td>15.0</td>\n",
       "      <td>Douro</td>\n",
       "      <td>NaN</td>\n",
       "      <td>NaN</td>\n",
       "      <td>Roger Voss</td>\n",
       "      <td>@vossroger</td>\n",
       "      <td>Quinta dos Avidagos 2011 Avidagos Red (Douro)</td>\n",
       "      <td>Portuguese Red</td>\n",
       "      <td>Quinta dos Avidagos</td>\n",
       "    </tr>\n",
       "    <tr>\n",
       "      <th>2</th>\n",
       "      <td>US</td>\n",
       "      <td>Tart and snappy, the flavors of lime flesh and...</td>\n",
       "      <td>NaN</td>\n",
       "      <td>87</td>\n",
       "      <td>14.0</td>\n",
       "      <td>Oregon</td>\n",
       "      <td>Willamette Valley</td>\n",
       "      <td>Willamette Valley</td>\n",
       "      <td>Paul Gregutt</td>\n",
       "      <td>@paulgwine</td>\n",
       "      <td>Rainstorm 2013 Pinot Gris (Willamette Valley)</td>\n",
       "      <td>Pinot Gris</td>\n",
       "      <td>Rainstorm</td>\n",
       "    </tr>\n",
       "    <tr>\n",
       "      <th>3</th>\n",
       "      <td>US</td>\n",
       "      <td>Pineapple rind, lemon pith and orange blossom ...</td>\n",
       "      <td>Reserve Late Harvest</td>\n",
       "      <td>87</td>\n",
       "      <td>13.0</td>\n",
       "      <td>Michigan</td>\n",
       "      <td>Lake Michigan Shore</td>\n",
       "      <td>NaN</td>\n",
       "      <td>Alexander Peartree</td>\n",
       "      <td>NaN</td>\n",
       "      <td>St. Julian 2013 Reserve Late Harvest Riesling ...</td>\n",
       "      <td>Riesling</td>\n",
       "      <td>St. Julian</td>\n",
       "    </tr>\n",
       "    <tr>\n",
       "      <th>4</th>\n",
       "      <td>US</td>\n",
       "      <td>Much like the regular bottling from 2012, this...</td>\n",
       "      <td>Vintner's Reserve Wild Child Block</td>\n",
       "      <td>87</td>\n",
       "      <td>65.0</td>\n",
       "      <td>Oregon</td>\n",
       "      <td>Willamette Valley</td>\n",
       "      <td>Willamette Valley</td>\n",
       "      <td>Paul Gregutt</td>\n",
       "      <td>@paulgwine</td>\n",
       "      <td>Sweet Cheeks 2012 Vintner's Reserve Wild Child...</td>\n",
       "      <td>Pinot Noir</td>\n",
       "      <td>Sweet Cheeks</td>\n",
       "    </tr>\n",
       "    <tr>\n",
       "      <th>...</th>\n",
       "      <td>...</td>\n",
       "      <td>...</td>\n",
       "      <td>...</td>\n",
       "      <td>...</td>\n",
       "      <td>...</td>\n",
       "      <td>...</td>\n",
       "      <td>...</td>\n",
       "      <td>...</td>\n",
       "      <td>...</td>\n",
       "      <td>...</td>\n",
       "      <td>...</td>\n",
       "      <td>...</td>\n",
       "      <td>...</td>\n",
       "    </tr>\n",
       "    <tr>\n",
       "      <th>129966</th>\n",
       "      <td>Germany</td>\n",
       "      <td>Notes of honeysuckle and cantaloupe sweeten th...</td>\n",
       "      <td>Brauneberger Juffer-Sonnenuhr Spätlese</td>\n",
       "      <td>90</td>\n",
       "      <td>28.0</td>\n",
       "      <td>Mosel</td>\n",
       "      <td>NaN</td>\n",
       "      <td>NaN</td>\n",
       "      <td>Anna Lee C. Iijima</td>\n",
       "      <td>NaN</td>\n",
       "      <td>Dr. H. Thanisch (Erben Müller-Burggraef) 2013 ...</td>\n",
       "      <td>Riesling</td>\n",
       "      <td>Dr. H. Thanisch (Erben Müller-Burggraef)</td>\n",
       "    </tr>\n",
       "    <tr>\n",
       "      <th>129967</th>\n",
       "      <td>US</td>\n",
       "      <td>Citation is given as much as a decade of bottl...</td>\n",
       "      <td>NaN</td>\n",
       "      <td>90</td>\n",
       "      <td>75.0</td>\n",
       "      <td>Oregon</td>\n",
       "      <td>Oregon</td>\n",
       "      <td>Oregon Other</td>\n",
       "      <td>Paul Gregutt</td>\n",
       "      <td>@paulgwine</td>\n",
       "      <td>Citation 2004 Pinot Noir (Oregon)</td>\n",
       "      <td>Pinot Noir</td>\n",
       "      <td>Citation</td>\n",
       "    </tr>\n",
       "    <tr>\n",
       "      <th>129968</th>\n",
       "      <td>France</td>\n",
       "      <td>Well-drained gravel soil gives this wine its c...</td>\n",
       "      <td>Kritt</td>\n",
       "      <td>90</td>\n",
       "      <td>30.0</td>\n",
       "      <td>Alsace</td>\n",
       "      <td>Alsace</td>\n",
       "      <td>NaN</td>\n",
       "      <td>Roger Voss</td>\n",
       "      <td>@vossroger</td>\n",
       "      <td>Domaine Gresser 2013 Kritt Gewurztraminer (Als...</td>\n",
       "      <td>Gewürztraminer</td>\n",
       "      <td>Domaine Gresser</td>\n",
       "    </tr>\n",
       "    <tr>\n",
       "      <th>129969</th>\n",
       "      <td>France</td>\n",
       "      <td>A dry style of Pinot Gris, this is crisp with ...</td>\n",
       "      <td>NaN</td>\n",
       "      <td>90</td>\n",
       "      <td>32.0</td>\n",
       "      <td>Alsace</td>\n",
       "      <td>Alsace</td>\n",
       "      <td>NaN</td>\n",
       "      <td>Roger Voss</td>\n",
       "      <td>@vossroger</td>\n",
       "      <td>Domaine Marcel Deiss 2012 Pinot Gris (Alsace)</td>\n",
       "      <td>Pinot Gris</td>\n",
       "      <td>Domaine Marcel Deiss</td>\n",
       "    </tr>\n",
       "    <tr>\n",
       "      <th>129970</th>\n",
       "      <td>France</td>\n",
       "      <td>Big, rich and off-dry, this is powered by inte...</td>\n",
       "      <td>Lieu-dit Harth Cuvée Caroline</td>\n",
       "      <td>90</td>\n",
       "      <td>21.0</td>\n",
       "      <td>Alsace</td>\n",
       "      <td>Alsace</td>\n",
       "      <td>NaN</td>\n",
       "      <td>Roger Voss</td>\n",
       "      <td>@vossroger</td>\n",
       "      <td>Domaine Schoffit 2012 Lieu-dit Harth Cuvée Car...</td>\n",
       "      <td>Gewürztraminer</td>\n",
       "      <td>Domaine Schoffit</td>\n",
       "    </tr>\n",
       "  </tbody>\n",
       "</table>\n",
       "<p>129971 rows × 13 columns</p>\n",
       "</div>"
      ],
      "text/plain": [
       "         country                                        description  \\\n",
       "0          Italy  Aromas include tropical fruit, broom, brimston...   \n",
       "1       Portugal  This is ripe and fruity, a wine that is smooth...   \n",
       "2             US  Tart and snappy, the flavors of lime flesh and...   \n",
       "3             US  Pineapple rind, lemon pith and orange blossom ...   \n",
       "4             US  Much like the regular bottling from 2012, this...   \n",
       "...          ...                                                ...   \n",
       "129966   Germany  Notes of honeysuckle and cantaloupe sweeten th...   \n",
       "129967        US  Citation is given as much as a decade of bottl...   \n",
       "129968    France  Well-drained gravel soil gives this wine its c...   \n",
       "129969    France  A dry style of Pinot Gris, this is crisp with ...   \n",
       "129970    France  Big, rich and off-dry, this is powered by inte...   \n",
       "\n",
       "                                   designation  points  price  \\\n",
       "0                                 Vulkà Bianco      87    NaN   \n",
       "1                                     Avidagos      87   15.0   \n",
       "2                                          NaN      87   14.0   \n",
       "3                         Reserve Late Harvest      87   13.0   \n",
       "4           Vintner's Reserve Wild Child Block      87   65.0   \n",
       "...                                        ...     ...    ...   \n",
       "129966  Brauneberger Juffer-Sonnenuhr Spätlese      90   28.0   \n",
       "129967                                     NaN      90   75.0   \n",
       "129968                                   Kritt      90   30.0   \n",
       "129969                                     NaN      90   32.0   \n",
       "129970           Lieu-dit Harth Cuvée Caroline      90   21.0   \n",
       "\n",
       "                 province             region_1           region_2  \\\n",
       "0       Sicily & Sardinia                 Etna                NaN   \n",
       "1                   Douro                  NaN                NaN   \n",
       "2                  Oregon    Willamette Valley  Willamette Valley   \n",
       "3                Michigan  Lake Michigan Shore                NaN   \n",
       "4                  Oregon    Willamette Valley  Willamette Valley   \n",
       "...                   ...                  ...                ...   \n",
       "129966              Mosel                  NaN                NaN   \n",
       "129967             Oregon               Oregon       Oregon Other   \n",
       "129968             Alsace               Alsace                NaN   \n",
       "129969             Alsace               Alsace                NaN   \n",
       "129970             Alsace               Alsace                NaN   \n",
       "\n",
       "               taster_name taster_twitter_handle  \\\n",
       "0            Kerin O’Keefe          @kerinokeefe   \n",
       "1               Roger Voss            @vossroger   \n",
       "2             Paul Gregutt           @paulgwine    \n",
       "3       Alexander Peartree                   NaN   \n",
       "4             Paul Gregutt           @paulgwine    \n",
       "...                    ...                   ...   \n",
       "129966  Anna Lee C. Iijima                   NaN   \n",
       "129967        Paul Gregutt           @paulgwine    \n",
       "129968          Roger Voss            @vossroger   \n",
       "129969          Roger Voss            @vossroger   \n",
       "129970          Roger Voss            @vossroger   \n",
       "\n",
       "                                                    title         variety  \\\n",
       "0                       Nicosia 2013 Vulkà Bianco  (Etna)     White Blend   \n",
       "1           Quinta dos Avidagos 2011 Avidagos Red (Douro)  Portuguese Red   \n",
       "2           Rainstorm 2013 Pinot Gris (Willamette Valley)      Pinot Gris   \n",
       "3       St. Julian 2013 Reserve Late Harvest Riesling ...        Riesling   \n",
       "4       Sweet Cheeks 2012 Vintner's Reserve Wild Child...      Pinot Noir   \n",
       "...                                                   ...             ...   \n",
       "129966  Dr. H. Thanisch (Erben Müller-Burggraef) 2013 ...        Riesling   \n",
       "129967                  Citation 2004 Pinot Noir (Oregon)      Pinot Noir   \n",
       "129968  Domaine Gresser 2013 Kritt Gewurztraminer (Als...  Gewürztraminer   \n",
       "129969      Domaine Marcel Deiss 2012 Pinot Gris (Alsace)      Pinot Gris   \n",
       "129970  Domaine Schoffit 2012 Lieu-dit Harth Cuvée Car...  Gewürztraminer   \n",
       "\n",
       "                                          winery  \n",
       "0                                        Nicosia  \n",
       "1                            Quinta dos Avidagos  \n",
       "2                                      Rainstorm  \n",
       "3                                     St. Julian  \n",
       "4                                   Sweet Cheeks  \n",
       "...                                          ...  \n",
       "129966  Dr. H. Thanisch (Erben Müller-Burggraef)  \n",
       "129967                                  Citation  \n",
       "129968                           Domaine Gresser  \n",
       "129969                      Domaine Marcel Deiss  \n",
       "129970                          Domaine Schoffit  \n",
       "\n",
       "[129971 rows x 13 columns]"
      ]
     },
     "execution_count": 6,
     "metadata": {},
     "output_type": "execute_result"
    }
   ],
   "source": [
    "import pandas as pd\n",
    "boisson=pd.read_csv(\"boissons_evaluees.csv\",index_col=0)\n",
    "boisson"
   ]
  },
  {
   "cell_type": "markdown",
   "id": "9440ab89",
   "metadata": {},
   "source": [
    "2) Determination de la mediane de la colonne points du DataFrame de boisson"
   ]
  },
  {
   "cell_type": "code",
   "execution_count": 7,
   "id": "af4c4620",
   "metadata": {},
   "outputs": [
    {
     "name": "stdout",
     "output_type": "stream",
     "text": [
      "La mediane de la colonne points est egale à :  88.0\n"
     ]
    }
   ],
   "source": [
    "qualite=boisson.points.median()\n",
    "print(\"La mediane de la colonne points est egale à : \",qualite)"
   ]
  },
  {
   "cell_type": "markdown",
   "id": "9bf566f4",
   "metadata": {},
   "source": [
    "3) Les pays représentés dans l'ensemble de données"
   ]
  },
  {
   "cell_type": "code",
   "execution_count": 8,
   "id": "26bf4079",
   "metadata": {},
   "outputs": [
    {
     "name": "stdout",
     "output_type": "stream",
     "text": [
      "La liste des pays représentés dans l'ensemble de données est : \n",
      " \n",
      " ['Italy' 'Portugal' 'US' 'Spain' 'France' 'Germany' 'Argentina' 'Chile'\n",
      " 'Australia' 'Austria' 'South Africa' 'New Zealand' 'Israel' 'Hungary'\n",
      " 'Greece' 'Romania' 'Mexico' 'Canada' nan 'Turkey' 'Czech Republic'\n",
      " 'Slovenia' 'Luxembourg' 'Croatia' 'Georgia' 'Uruguay' 'England' 'Lebanon'\n",
      " 'Serbia' 'Brazil' 'Moldova' 'Morocco' 'Peru' 'India' 'Bulgaria' 'Cyprus'\n",
      " 'Armenia' 'Switzerland' 'Bosnia and Herzegovina' 'Ukraine' 'Slovakia'\n",
      " 'Macedonia' 'China' 'Egypt']\n"
     ]
    }
   ],
   "source": [
    "print(\"La liste des pays représentés dans l'ensemble de données est : \\n \\n\",boisson.country.unique())"
   ]
  },
  {
   "cell_type": "markdown",
   "id": "cd98d738",
   "metadata": {},
   "source": [
    "4) La fréquence donc figure chaque pays dans l'ensemble des données."
   ]
  },
  {
   "cell_type": "code",
   "execution_count": 9,
   "id": "8082e0cc",
   "metadata": {},
   "outputs": [
    {
     "data": {
      "text/plain": [
       "US                        54504\n",
       "France                    22093\n",
       "Italy                     19540\n",
       "Spain                      6645\n",
       "Portugal                   5691\n",
       "Chile                      4472\n",
       "Argentina                  3800\n",
       "Austria                    3345\n",
       "Australia                  2329\n",
       "Germany                    2165\n",
       "New Zealand                1419\n",
       "South Africa               1401\n",
       "Israel                      505\n",
       "Greece                      466\n",
       "Canada                      257\n",
       "Hungary                     146\n",
       "Bulgaria                    141\n",
       "Romania                     120\n",
       "Uruguay                     109\n",
       "Turkey                       90\n",
       "Slovenia                     87\n",
       "Georgia                      86\n",
       "England                      74\n",
       "Croatia                      73\n",
       "Mexico                       70\n",
       "Moldova                      59\n",
       "Brazil                       52\n",
       "Lebanon                      35\n",
       "Morocco                      28\n",
       "Peru                         16\n",
       "Ukraine                      14\n",
       "Serbia                       12\n",
       "Czech Republic               12\n",
       "Macedonia                    12\n",
       "Cyprus                       11\n",
       "India                         9\n",
       "Switzerland                   7\n",
       "Luxembourg                    6\n",
       "Bosnia and Herzegovina        2\n",
       "Armenia                       2\n",
       "Slovakia                      1\n",
       "China                         1\n",
       "Egypt                         1\n",
       "Name: country, dtype: int64"
      ]
     },
     "execution_count": 9,
     "metadata": {},
     "output_type": "execute_result"
    }
   ],
   "source": [
    "frequence_pays = boisson.country.value_counts()\n",
    "frequence_pays"
   ]
  },
  {
   "cell_type": "markdown",
   "id": "f66631b4",
   "metadata": {},
   "source": [
    "     Créez une Series de boisson_par_pays en faisant correspondre les pays au nombre de critiques de boisson de ce pays."
   ]
  },
  {
   "cell_type": "code",
   "execution_count": 10,
   "id": "92c029f8",
   "metadata": {},
   "outputs": [
    {
     "data": {
      "text/plain": [
       "country\n",
       "Argentina                 18\n",
       "Armenia                    2\n",
       "Australia                 21\n",
       "Austria                   17\n",
       "Bosnia and Herzegovina     2\n",
       "Brazil                    10\n",
       "Bulgaria                  11\n",
       "Canada                    13\n",
       "Chile                     16\n",
       "China                      1\n",
       "Croatia                   11\n",
       "Cyprus                     4\n",
       "Czech Republic             5\n",
       "Egypt                      1\n",
       "England                    7\n",
       "France                    21\n",
       "Georgia                   10\n",
       "Germany                   18\n",
       "Greece                    12\n",
       "Hungary                   16\n",
       "India                      6\n",
       "Israel                    15\n",
       "Italy                     21\n",
       "Lebanon                   10\n",
       "Luxembourg                 3\n",
       "Macedonia                  6\n",
       "Mexico                    13\n",
       "Moldova                   10\n",
       "Morocco                    8\n",
       "New Zealand               16\n",
       "Peru                       7\n",
       "Portugal                  21\n",
       "Romania                   10\n",
       "Serbia                     4\n",
       "Slovakia                   1\n",
       "Slovenia                  11\n",
       "South Africa              14\n",
       "Spain                     19\n",
       "Switzerland                3\n",
       "Turkey                     9\n",
       "US                        21\n",
       "Ukraine                    6\n",
       "Uruguay                   13\n",
       "dtype: int64"
      ]
     },
     "execution_count": 10,
     "metadata": {},
     "output_type": "execute_result"
    }
   ],
   "source": [
    "# Series de boisson par pays\n",
    "boisson_pays = boisson.groupby(\"country\").points.unique()\n",
    "boisson_pays\n",
    "critique = []\n",
    "for i in range(len(boisson_pays.index)):\n",
    "    critique.append(len(boisson_pays[i]))\n",
    "serie_boisson = Series(critique, index=boisson_pays.index)\n",
    "serie_boisson"
   ]
  },
  {
   "cell_type": "markdown",
   "id": "6f7747a0",
   "metadata": {},
   "source": [
    "5. Créez la variable prix_centre contenant une version de la colonne price avec le prix moyen soustrait."
   ]
  },
  {
   "cell_type": "code",
   "execution_count": 11,
   "id": "a88a23a8",
   "metadata": {
    "scrolled": true
   },
   "outputs": [
    {
     "data": {
      "text/plain": [
       "0               NaN\n",
       "1        -20.363389\n",
       "2        -21.363389\n",
       "3        -22.363389\n",
       "4         29.636611\n",
       "            ...    \n",
       "129966    -7.363389\n",
       "129967    39.636611\n",
       "129968    -5.363389\n",
       "129969    -3.363389\n",
       "129970   -14.363389\n",
       "Name: price, Length: 129971, dtype: float64"
      ]
     },
     "execution_count": 11,
     "metadata": {},
     "output_type": "execute_result"
    }
   ],
   "source": [
    "price_mean = np.nanmean(boisson.price)\n",
    "boisson.price.map(lambda prix_centre: prix_centre - price_mean)"
   ]
  },
  {
   "cell_type": "markdown",
   "id": "221b3270",
   "metadata": {},
   "source": [
    "6) Je suis un acheteur de boisson. Quelle boisson est la meilleure affaire ? Créez une variable boisson_negociee avec le titre de la boisson ayant le meilleur rapport qualité/prix dans l’ensemble de données"
   ]
  },
  {
   "cell_type": "code",
   "execution_count": 12,
   "id": "7f93299f",
   "metadata": {},
   "outputs": [
    {
     "name": "stdout",
     "output_type": "stream",
     "text": [
      "La boisson ayant la meilleur rapport qualite_prix (egal à  21.5 ) est :  ['Bandit NV Merlot (California)', 'Cramele Recas 2011 UnWineD Pinot Grigio (Viile Timisului)']\n"
     ]
    }
   ],
   "source": [
    "qualite_prix = boisson.points/boisson.price\n",
    "indice = np.where(qualite_prix.values==qualite_prix.max())\n",
    "boisson_negociee=[]\n",
    "for i in range(len(indice[0])):\n",
    "    boisson_negociee.append(boisson.title[indice[0][i]])\n",
    "print(\"La boisson ayant la meilleur rapport qualite_prix (egal à \",qualite_prix.max(),\") est : \", boisson_negociee)"
   ]
  },
  {
   "cell_type": "code",
   "execution_count": 13,
   "id": "61e8d670",
   "metadata": {},
   "outputs": [
    {
     "data": {
      "text/html": [
       "<div>\n",
       "<style scoped>\n",
       "    .dataframe tbody tr th:only-of-type {\n",
       "        vertical-align: middle;\n",
       "    }\n",
       "\n",
       "    .dataframe tbody tr th {\n",
       "        vertical-align: top;\n",
       "    }\n",
       "\n",
       "    .dataframe thead th {\n",
       "        text-align: right;\n",
       "    }\n",
       "</style>\n",
       "<table border=\"1\" class=\"dataframe\">\n",
       "  <thead>\n",
       "    <tr style=\"text-align: right;\">\n",
       "      <th></th>\n",
       "      <th>country</th>\n",
       "      <th>description</th>\n",
       "      <th>designation</th>\n",
       "      <th>points</th>\n",
       "      <th>price</th>\n",
       "      <th>province</th>\n",
       "      <th>region_1</th>\n",
       "      <th>region_2</th>\n",
       "      <th>taster_name</th>\n",
       "      <th>taster_twitter_handle</th>\n",
       "      <th>title</th>\n",
       "      <th>variety</th>\n",
       "      <th>winery</th>\n",
       "    </tr>\n",
       "  </thead>\n",
       "  <tbody>\n",
       "    <tr>\n",
       "      <th>64590</th>\n",
       "      <td>US</td>\n",
       "      <td>There's a lot going on in this Merlot, which i...</td>\n",
       "      <td>NaN</td>\n",
       "      <td>86</td>\n",
       "      <td>4.0</td>\n",
       "      <td>California</td>\n",
       "      <td>California</td>\n",
       "      <td>California Other</td>\n",
       "      <td>NaN</td>\n",
       "      <td>NaN</td>\n",
       "      <td>Bandit NV Merlot (California)</td>\n",
       "      <td>Merlot</td>\n",
       "      <td>Bandit</td>\n",
       "    </tr>\n",
       "    <tr>\n",
       "      <th>126096</th>\n",
       "      <td>Romania</td>\n",
       "      <td>Notes of sun-dried hay and green flower highli...</td>\n",
       "      <td>UnWineD</td>\n",
       "      <td>86</td>\n",
       "      <td>4.0</td>\n",
       "      <td>Viile Timisului</td>\n",
       "      <td>NaN</td>\n",
       "      <td>NaN</td>\n",
       "      <td>Anna Lee C. Iijima</td>\n",
       "      <td>NaN</td>\n",
       "      <td>Cramele Recas 2011 UnWineD Pinot Grigio (Viile...</td>\n",
       "      <td>Pinot Grigio</td>\n",
       "      <td>Cramele Recas</td>\n",
       "    </tr>\n",
       "  </tbody>\n",
       "</table>\n",
       "</div>"
      ],
      "text/plain": [
       "        country                                        description  \\\n",
       "64590        US  There's a lot going on in this Merlot, which i...   \n",
       "126096  Romania  Notes of sun-dried hay and green flower highli...   \n",
       "\n",
       "       designation  points  price         province    region_1  \\\n",
       "64590          NaN      86    4.0       California  California   \n",
       "126096     UnWineD      86    4.0  Viile Timisului         NaN   \n",
       "\n",
       "                region_2         taster_name taster_twitter_handle  \\\n",
       "64590   California Other                 NaN                   NaN   \n",
       "126096               NaN  Anna Lee C. Iijima                   NaN   \n",
       "\n",
       "                                                    title       variety  \\\n",
       "64590                       Bandit NV Merlot (California)        Merlot   \n",
       "126096  Cramele Recas 2011 UnWineD Pinot Grigio (Viile...  Pinot Grigio   \n",
       "\n",
       "               winery  \n",
       "64590          Bandit  \n",
       "126096  Cramele Recas  "
      ]
     },
     "execution_count": 13,
     "metadata": {},
     "output_type": "execute_result"
    }
   ],
   "source": [
    "indice[0]\n",
    "boisson.loc[indice[0]]"
   ]
  },
  {
   "cell_type": "code",
   "execution_count": 14,
   "id": "75883fc9",
   "metadata": {},
   "outputs": [
    {
     "data": {
      "text/plain": [
       "'Bandit NV Merlot (California)'"
      ]
     },
     "execution_count": 14,
     "metadata": {},
     "output_type": "execute_result"
    }
   ],
   "source": [
    "#*****Autre methode*****mais qui renvoie la premiere valeur\n",
    "qualite_prix = boisson.points/boisson.price\n",
    "boisson_negocie = boisson.title[np.argmax(qualite_prix)]\n",
    "boisson_negocie"
   ]
  },
  {
   "cell_type": "markdown",
   "id": "1a1fa0da",
   "metadata": {},
   "source": [
    "# Exercice 3"
   ]
  },
  {
   "cell_type": "markdown",
   "id": "3b44b0f1",
   "metadata": {},
   "source": [
    "On considère le fichier boissons_evaluees.csv"
   ]
  },
  {
   "cell_type": "markdown",
   "id": "4db802c7",
   "metadata": {},
   "source": [
    "1. Quels sont les critiques de boisson les plus fréquentes dans l’ensemble des données ?"
   ]
  },
  {
   "cell_type": "code",
   "execution_count": 15,
   "id": "d6b6ea71",
   "metadata": {},
   "outputs": [
    {
     "data": {
      "text/plain": [
       "US                        54504\n",
       "France                    22093\n",
       "Italy                     19540\n",
       "Spain                      6645\n",
       "Portugal                   5691\n",
       "Chile                      4472\n",
       "Argentina                  3800\n",
       "Austria                    3345\n",
       "Australia                  2329\n",
       "Germany                    2165\n",
       "New Zealand                1419\n",
       "South Africa               1401\n",
       "Israel                      505\n",
       "Greece                      466\n",
       "Canada                      257\n",
       "Hungary                     146\n",
       "Bulgaria                    141\n",
       "Romania                     120\n",
       "Uruguay                     109\n",
       "Turkey                       90\n",
       "Slovenia                     87\n",
       "Georgia                      86\n",
       "England                      74\n",
       "Croatia                      73\n",
       "Mexico                       70\n",
       "Moldova                      59\n",
       "Brazil                       52\n",
       "Lebanon                      35\n",
       "Morocco                      28\n",
       "Peru                         16\n",
       "Ukraine                      14\n",
       "Serbia                       12\n",
       "Czech Republic               12\n",
       "Macedonia                    12\n",
       "Cyprus                       11\n",
       "India                         9\n",
       "Switzerland                   7\n",
       "Luxembourg                    6\n",
       "Bosnia and Herzegovina        2\n",
       "Armenia                       2\n",
       "Slovakia                      1\n",
       "China                         1\n",
       "Egypt                         1\n",
       "Name: country, dtype: int64"
      ]
     },
     "execution_count": 15,
     "metadata": {},
     "output_type": "execute_result"
    }
   ],
   "source": [
    "frequence_boisson = boisson.country.value_counts()\n",
    "frequence_boisson"
   ]
  },
  {
   "cell_type": "markdown",
   "id": "a9b5b6ea",
   "metadata": {},
   "source": [
    "1) Créons une Series dont l’index est la catégorie taster_twitter_handle de l’ensemble de données, et dont les valeurs comptent le nombre de critiques que chaque personne a rédigées."
   ]
  },
  {
   "cell_type": "code",
   "execution_count": 16,
   "id": "a17fabc0",
   "metadata": {},
   "outputs": [
    {
     "data": {
      "text/plain": [
       "taster_twitter_handle\n",
       "@AnneInVino         17\n",
       "@JoeCz              21\n",
       "@bkfiona             7\n",
       "@gordone_cellars    18\n",
       "@kerinokeefe        21\n",
       "@laurbuzz           15\n",
       "@mattkettmann       17\n",
       "@paulgwine          21\n",
       "@suskostrzewa       15\n",
       "@vboone             20\n",
       "@vossroger          21\n",
       "@wawinereport       18\n",
       "@wineschach         19\n",
       "@winewchristina      4\n",
       "@worldwineguys      16\n",
       "dtype: int64"
      ]
     },
     "execution_count": 16,
     "metadata": {},
     "output_type": "execute_result"
    }
   ],
   "source": [
    "# Series de boisson par pays\n",
    "twitter_critique = boisson.groupby(\"taster_twitter_handle\").points.unique()\n",
    "twitter_critique\n",
    "critique_twt = []\n",
    "for i in range(len(twitter_critique.index)):\n",
    "    critique_twt.append(len(twitter_critique[i]))\n",
    "serie_critique = Series(critique_twt, index = twitter_critique.index)\n",
    "serie_critique"
   ]
  },
  {
   "cell_type": "markdown",
   "id": "a998e8a3",
   "metadata": {},
   "source": [
    "2. Quelle est la meilleure boisson que je puisse acheter pour une somme donnée ? "
   ]
  },
  {
   "cell_type": "code",
   "execution_count": 17,
   "id": "52a3dcf3",
   "metadata": {},
   "outputs": [
    {
     "name": "stdout",
     "output_type": "stream",
     "text": [
      "Entrer la somme que vous avez pour acheter de la boisson : 18\n",
      "La meilleur boisson à acheter est : \n",
      "\n"
     ]
    },
    {
     "data": {
      "text/plain": [
       "64590                         Bandit NV Merlot (California)\n",
       "126096    Cramele Recas 2011 UnWineD Pinot Grigio (Viile...\n",
       "Name: title, dtype: object"
      ]
     },
     "execution_count": 17,
     "metadata": {},
     "output_type": "execute_result"
    }
   ],
   "source": [
    "prix = boisson.price\n",
    "somme_donnee = int(input(\"Entrer la somme que vous avez pour acheter de la boisson : \"))\n",
    "Df_achats = boisson['price'] <= somme_donnee # retourne une serie booleen\n",
    "Df_achat = boisson[Df_achats]  # retourne le DataFrame\n",
    "qualite_prix_achat = Df_achat.points/Df_achat.price\n",
    "#Df_achat.insert(2, \"qualite_prix\", qualite_prix_achat, allow_duplicates = False)\n",
    "#Df_achat.set_index('country')\n",
    "indice_achat = np.where(qualite_prix_achat.values==qualite_prix_achat.max())\n",
    "boisson_achat=[]\n",
    "#for i in range(len(indice_achat[0])):\n",
    "#    boisson_achat.append(Df_achat.loc[indice_achat[0][i]]) # Creation de la liste des noms des boissons pouvant etre acheté\n",
    "print(\"La meilleur boisson à acheter est : \\n\" )\n",
    "Resultat = Df_achat.iloc[indice_achat[0]]\n",
    "Resultat.title"
   ]
  },
  {
   "cell_type": "code",
   "execution_count": 18,
   "id": "85ee270d",
   "metadata": {},
   "outputs": [
    {
     "data": {
      "text/plain": [
       "country                                                              Italy\n",
       "description              Here's a bright, informal red that opens with ...\n",
       "designation                                                        Belsito\n",
       "points                                                                  87\n",
       "price                                                                 16.0\n",
       "province                                                 Sicily & Sardinia\n",
       "region_1                                                          Vittoria\n",
       "region_2                                                               NaN\n",
       "taster_name                                                  Kerin O’Keefe\n",
       "taster_twitter_handle                                         @kerinokeefe\n",
       "title                     Terre di Giurfo 2013 Belsito Frappato (Vittoria)\n",
       "variety                                                           Frappato\n",
       "winery                                                     Terre di Giurfo\n",
       "Name: 6, dtype: object"
      ]
     },
     "execution_count": 18,
     "metadata": {},
     "output_type": "execute_result"
    }
   ],
   "source": [
    "boisson.loc[6]"
   ]
  },
  {
   "cell_type": "markdown",
   "id": "c534245a",
   "metadata": {},
   "source": [
    "Créez une Series dont l’indice est le prix de la boisson et dont la valeur est le nombre maximum de points qu’une boisson coûtant le même prix a obtenu dans une critique. Trier les valeurs par prix, en ordre croissant."
   ]
  },
  {
   "cell_type": "code",
   "execution_count": 20,
   "id": "330a8132",
   "metadata": {},
   "outputs": [
    {
     "data": {
      "text/plain": [
       "price\n",
       "4.0        86\n",
       "5.0        87\n",
       "790.0      87\n",
       "181.0      88\n",
       "3300.0     88\n",
       "         ... \n",
       "617.0     100\n",
       "450.0     100\n",
       "650.0     100\n",
       "460.0     100\n",
       "150.0     100\n",
       "Name: points, Length: 390, dtype: int64"
      ]
     },
     "execution_count": 20,
     "metadata": {},
     "output_type": "execute_result"
    }
   ],
   "source": [
    "boisson_trie = boisson.groupby('price').points.max()\n",
    "boisson_trier = boisson_trie.sort_values()\n",
    "boisson_trier"
   ]
  },
  {
   "cell_type": "markdown",
   "id": "a2a596ec",
   "metadata": {},
   "source": [
    "3. Quels sont les prix minimum et maximum pour chaque cépage (variety) de boisson ?"
   ]
  },
  {
   "cell_type": "code",
   "execution_count": 21,
   "id": "0f731a9a",
   "metadata": {},
   "outputs": [
    {
     "name": "stdout",
     "output_type": "stream",
     "text": [
      "Les prix maximum pour chaque cépage(variety) sont :  variety\n",
      "Abouriou        75.0\n",
      "Agiorgitiko     66.0\n",
      "Aglianico      180.0\n",
      "Aidani          27.0\n",
      "Airen           10.0\n",
      "               ...  \n",
      "Zinfandel      100.0\n",
      "Zlahtina        16.0\n",
      "Zweigelt        70.0\n",
      "Çalkarası       19.0\n",
      "Žilavka         15.0\n",
      "Name: price, Length: 707, dtype: float64\n",
      "\n",
      "\n",
      "Les prix minimum pour chaque cépage(variety) sont :  variety\n",
      "Abouriou       15.0\n",
      "Agiorgitiko    10.0\n",
      "Aglianico       6.0\n",
      "Aidani         27.0\n",
      "Airen           8.0\n",
      "               ... \n",
      "Zinfandel       5.0\n",
      "Zlahtina       13.0\n",
      "Zweigelt        9.0\n",
      "Çalkarası      19.0\n",
      "Žilavka        15.0\n",
      "Name: price, Length: 707, dtype: float64\n"
     ]
    }
   ],
   "source": [
    "maximum_variete_boisson = boisson.groupby('variety').price.max()\n",
    "print(\"Les prix maximum pour chaque cépage(variety) sont : \",maximum_variete_boisson)\n",
    "minimum_variete_boisson = boisson.groupby('variety').price.min()\n",
    "print(\"\\n\\nLes prix minimum pour chaque cépage(variety) sont : \",minimum_variete_boisson)"
   ]
  },
  {
   "cell_type": "markdown",
   "id": "9899c132",
   "metadata": {},
   "source": [
    "Créez un DataFrame dont l’indice est la catégorie variety de l’ensemble de données et dont les valeurs sont les valeurs min et max de celui-ci."
   ]
  },
  {
   "cell_type": "code",
   "execution_count": 22,
   "id": "b6b6610a",
   "metadata": {},
   "outputs": [
    {
     "data": {
      "text/html": [
       "<div>\n",
       "<style scoped>\n",
       "    .dataframe tbody tr th:only-of-type {\n",
       "        vertical-align: middle;\n",
       "    }\n",
       "\n",
       "    .dataframe tbody tr th {\n",
       "        vertical-align: top;\n",
       "    }\n",
       "\n",
       "    .dataframe thead th {\n",
       "        text-align: right;\n",
       "    }\n",
       "</style>\n",
       "<table border=\"1\" class=\"dataframe\">\n",
       "  <thead>\n",
       "    <tr style=\"text-align: right;\">\n",
       "      <th></th>\n",
       "      <th>minimum</th>\n",
       "      <th>maximun</th>\n",
       "    </tr>\n",
       "    <tr>\n",
       "      <th>variety</th>\n",
       "      <th></th>\n",
       "      <th></th>\n",
       "    </tr>\n",
       "  </thead>\n",
       "  <tbody>\n",
       "    <tr>\n",
       "      <th>Abouriou</th>\n",
       "      <td>15.0</td>\n",
       "      <td>75.0</td>\n",
       "    </tr>\n",
       "    <tr>\n",
       "      <th>Agiorgitiko</th>\n",
       "      <td>10.0</td>\n",
       "      <td>66.0</td>\n",
       "    </tr>\n",
       "    <tr>\n",
       "      <th>Aglianico</th>\n",
       "      <td>6.0</td>\n",
       "      <td>180.0</td>\n",
       "    </tr>\n",
       "    <tr>\n",
       "      <th>Aidani</th>\n",
       "      <td>27.0</td>\n",
       "      <td>27.0</td>\n",
       "    </tr>\n",
       "    <tr>\n",
       "      <th>Airen</th>\n",
       "      <td>8.0</td>\n",
       "      <td>10.0</td>\n",
       "    </tr>\n",
       "    <tr>\n",
       "      <th>...</th>\n",
       "      <td>...</td>\n",
       "      <td>...</td>\n",
       "    </tr>\n",
       "    <tr>\n",
       "      <th>Zinfandel</th>\n",
       "      <td>5.0</td>\n",
       "      <td>100.0</td>\n",
       "    </tr>\n",
       "    <tr>\n",
       "      <th>Zlahtina</th>\n",
       "      <td>13.0</td>\n",
       "      <td>16.0</td>\n",
       "    </tr>\n",
       "    <tr>\n",
       "      <th>Zweigelt</th>\n",
       "      <td>9.0</td>\n",
       "      <td>70.0</td>\n",
       "    </tr>\n",
       "    <tr>\n",
       "      <th>Çalkarası</th>\n",
       "      <td>19.0</td>\n",
       "      <td>19.0</td>\n",
       "    </tr>\n",
       "    <tr>\n",
       "      <th>Žilavka</th>\n",
       "      <td>15.0</td>\n",
       "      <td>15.0</td>\n",
       "    </tr>\n",
       "  </tbody>\n",
       "</table>\n",
       "<p>707 rows × 2 columns</p>\n",
       "</div>"
      ],
      "text/plain": [
       "             minimum  maximun\n",
       "variety                      \n",
       "Abouriou        15.0     75.0\n",
       "Agiorgitiko     10.0     66.0\n",
       "Aglianico        6.0    180.0\n",
       "Aidani          27.0     27.0\n",
       "Airen            8.0     10.0\n",
       "...              ...      ...\n",
       "Zinfandel        5.0    100.0\n",
       "Zlahtina        13.0     16.0\n",
       "Zweigelt         9.0     70.0\n",
       "Çalkarası       19.0     19.0\n",
       "Žilavka         15.0     15.0\n",
       "\n",
       "[707 rows x 2 columns]"
      ]
     },
     "execution_count": 22,
     "metadata": {},
     "output_type": "execute_result"
    }
   ],
   "source": [
    "df_variete = pd.DataFrame({\"minimum\":minimum_variete_boisson, \"maximun\":maximum_variete_boisson})\n",
    "df_variete"
   ]
  },
  {
   "cell_type": "markdown",
   "id": "e244a8f5",
   "metadata": {},
   "source": [
    "4. Créer une Series dont l’indice est celui des « commentateurs » et dont la valeur est la note moyenne de l’examen donné par ce « commentateur ». Astuce : vous aurez besoin des colonnes taster_name et points."
   ]
  },
  {
   "cell_type": "code",
   "execution_count": 23,
   "id": "fadf246a",
   "metadata": {},
   "outputs": [
    {
     "data": {
      "text/plain": [
       "taster_name\n",
       "Alexander Peartree    85.855422\n",
       "Anna Lee C. Iijima    88.415629\n",
       "Anne Krebiehl MW      90.562551\n",
       "Carrie Dykes          86.395683\n",
       "Christina Pickard     87.833333\n",
       "Fiona Adams           86.888889\n",
       "Jeff Jenssen          88.319756\n",
       "Jim Gordon            88.626287\n",
       "Joe Czerwinski        88.536235\n",
       "Kerin O’Keefe         88.867947\n",
       "Lauren Buzzeo         87.739510\n",
       "Matt Kettmann         90.008686\n",
       "Michael Schachner     86.907493\n",
       "Mike DeSimone         89.101167\n",
       "Paul Gregutt          89.082564\n",
       "Roger Voss            88.708003\n",
       "Sean P. Sullivan      88.755739\n",
       "Susan Kostrzewa       86.609217\n",
       "Virginie Boone        89.213379\n",
       "Name: points, dtype: float64"
      ]
     },
     "execution_count": 23,
     "metadata": {},
     "output_type": "execute_result"
    }
   ],
   "source": [
    "serie_taster_name_points = boisson.groupby('taster_name').points.mean()\n",
    "serie_taster_name_points"
   ]
  },
  {
   "cell_type": "markdown",
   "id": "07fb4dbe",
   "metadata": {},
   "source": [
    "5. Quel est le type de données de la colonne points dans l’ensemble de données ?"
   ]
  },
  {
   "cell_type": "code",
   "execution_count": 24,
   "id": "e595e9cd",
   "metadata": {},
   "outputs": [
    {
     "data": {
      "text/plain": [
       "dtype('int64')"
      ]
     },
     "execution_count": 24,
     "metadata": {},
     "output_type": "execute_result"
    }
   ],
   "source": [
    "boisson.points.dtypes"
   ]
  },
  {
   "cell_type": "markdown",
   "id": "907d2060",
   "metadata": {},
   "source": [
    "6. Parfois, la colonne price est nulle. A combien d’avis dans l’ensemble de données manque-t-il un prix ?"
   ]
  },
  {
   "cell_type": "code",
   "execution_count": 25,
   "id": "c6ac61df",
   "metadata": {},
   "outputs": [
    {
     "name": "stdout",
     "output_type": "stream",
     "text": [
      "Sur  129971  avis, il manque  8996\n"
     ]
    }
   ],
   "source": [
    "prix_no_manquante = boisson[pd.notnull(boisson.price)]\n",
    "print(\"Sur \",len(boisson),\" avis, il manque \",len(boisson.price) - len(prix_no_manquante.price))"
   ]
  },
  {
   "cell_type": "code",
   "execution_count": 26,
   "id": "0b9e8210",
   "metadata": {},
   "outputs": [
    {
     "name": "stdout",
     "output_type": "stream",
     "text": [
      "Sur  129971  avis, il manque  8996\n"
     ]
    }
   ],
   "source": [
    "prix_no_manquante1 = boisson[pd.isnull(boisson.price)]\n",
    "print(\"Sur \",len(boisson),\" avis, il manque \",len(prix_no_manquante1))"
   ]
  },
  {
   "cell_type": "code",
   "execution_count": null,
   "id": "a23efa65",
   "metadata": {},
   "outputs": [],
   "source": []
  }
 ],
 "metadata": {
  "kernelspec": {
   "display_name": "Python 3 (ipykernel)",
   "language": "python",
   "name": "python3"
  },
  "language_info": {
   "codemirror_mode": {
    "name": "ipython",
    "version": 3
   },
   "file_extension": ".py",
   "mimetype": "text/x-python",
   "name": "python",
   "nbconvert_exporter": "python",
   "pygments_lexer": "ipython3",
   "version": "3.9.7"
  }
 },
 "nbformat": 4,
 "nbformat_minor": 5
}
